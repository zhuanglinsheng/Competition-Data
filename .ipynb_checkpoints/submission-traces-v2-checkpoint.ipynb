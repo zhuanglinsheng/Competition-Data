{
 "cells": [
  {
   "cell_type": "code",
   "execution_count": 1,
   "id": "fb62be63-a045-4f53-8d2d-833e31022f9d",
   "metadata": {},
   "outputs": [],
   "source": [
    "import gc, os, sys, time\n",
    "import pandas as pd, numpy as np\n",
    "from unidecode import unidecode\n",
    "from pathlib import Path\n",
    "import matplotlib.pyplot as plt\n",
    "from matplotlib.ticker import MaxNLocator\n",
    "from IPython.display import HTML, display\n",
    "import warnings\n",
    "warnings.filterwarnings(\"ignore\")"
   ]
  },
  {
   "cell_type": "code",
   "execution_count": 2,
   "id": "7955f874-9859-4bf0-9bcc-6827699dcc5c",
   "metadata": {},
   "outputs": [],
   "source": [
    "n_comp = 100 # Specify the number of competitions\n",
    "\n",
    "# CSV_DIR = Path('..', 'input', 'meta-kaggle')\n",
    "CSV_DIR = Path('D:/Academics/Research/IORA/Game Designer/Data Files/', 'input', 'meta-kaggle')\n",
    "if not CSV_DIR.is_dir():\n",
    "    CSV_DIR = Path('D:/Academics/Research/IORA/Game Designer/Data Files/', 'input')\n",
    "\n",
    "def read_csv_filtered(csv, col, values):\n",
    "    dfs = [df.loc[df[col].isin(values)]\n",
    "           for df in pd.read_csv(CSV_DIR / csv, chunksize=100000, low_memory=False)]\n",
    "    return pd.concat(dfs, axis=0)\n",
    "\n",
    "comps = pd.read_csv(CSV_DIR / 'Competitions.csv').set_index('Id')\n",
    "comps = comps.query(\"HostSegmentTitle != 'InClass'\")\n",
    "idx = comps.EvaluationAlgorithmName.isnull()\n",
    "comps.loc[idx, 'EvaluationAlgorithmName'] = comps.loc[idx, 'EvaluationAlgorithmAbbreviation']\n",
    "\n",
    "comps['EvaluationLabel'] = comps.EvaluationAlgorithmAbbreviation\n",
    "idx = comps.EvaluationLabel.str.len() > 30\n",
    "comps.loc[idx, 'EvaluationLabel'] = comps.loc[idx, 'EvaluationLabel'].str.replace(r'[^A-Z\\d\\-]', '', regex=True)\n",
    "\n",
    "comps['DeadlineDate'] = pd.to_datetime(comps.DeadlineDate)\n",
    "comps['EnabledDate'] = pd.to_datetime(comps.EnabledDate)\n",
    "comps['DeadlineDateText'] = comps.DeadlineDate.dt.strftime('%c')\n",
    "comps['EnabledDateText'] = comps.EnabledDate.dt.strftime('%c')\n",
    "comps['Year'] = comps.DeadlineDate.dt.year\n",
    "comps['RewardQuantity'].fillna('', inplace=True)\n",
    "comps['Days'] = (comps.DeadlineDate - comps.EnabledDate) / pd.Timedelta(1, 'd')\n",
    "comps['FinalWeek'] = (comps.DeadlineDate - pd.Timedelta(1, 'w'))"
   ]
  },
  {
   "cell_type": "code",
   "execution_count": 3,
   "id": "1c88d13f-43bf-414e-b8c2-0dba79b3d37c",
   "metadata": {},
   "outputs": [
    {
     "name": "stdout",
     "output_type": "stream",
     "text": [
      "<class 'pandas.core.frame.DataFrame'>\n",
      "Int64Index: 472 entries, 2408 to 35272\n",
      "Data columns (total 47 columns):\n",
      " #   Column                            Non-Null Count  Dtype         \n",
      "---  ------                            --------------  -----         \n",
      " 0   Slug                              472 non-null    object        \n",
      " 1   Title                             472 non-null    object        \n",
      " 2   Subtitle                          472 non-null    object        \n",
      " 3   HostSegmentTitle                  472 non-null    object        \n",
      " 4   ForumId                           470 non-null    float64       \n",
      " 5   OrganizationId                    306 non-null    float64       \n",
      " 6   CompetitionTypeId                 472 non-null    int64         \n",
      " 7   HostName                          214 non-null    object        \n",
      " 8   EnabledDate                       472 non-null    datetime64[ns]\n",
      " 9   DeadlineDate                      472 non-null    datetime64[ns]\n",
      " 10  ProhibitNewEntrantsDeadlineDate   268 non-null    object        \n",
      " 11  TeamMergerDeadlineDate            261 non-null    object        \n",
      " 12  TeamModelDeadlineDate             211 non-null    object        \n",
      " 13  ModelSubmissionDeadlineDate       14 non-null     object        \n",
      " 14  FinalLeaderboardHasBeenVerified   472 non-null    bool          \n",
      " 15  HasKernels                        472 non-null    bool          \n",
      " 16  OnlyAllowKernelSubmissions        472 non-null    bool          \n",
      " 17  HasLeaderboard                    472 non-null    bool          \n",
      " 18  LeaderboardPercentage             472 non-null    int64         \n",
      " 19  LeaderboardDisplayFormat          472 non-null    float64       \n",
      " 20  EvaluationAlgorithmAbbreviation   472 non-null    object        \n",
      " 21  EvaluationAlgorithmName           472 non-null    object        \n",
      " 22  EvaluationAlgorithmDescription    461 non-null    object        \n",
      " 23  EvaluationAlgorithmIsMax          472 non-null    object        \n",
      " 24  ValidationSetName                 249 non-null    object        \n",
      " 25  ValidationSetValue                233 non-null    object        \n",
      " 26  MaxDailySubmissions               472 non-null    int64         \n",
      " 27  NumScoredSubmissions              472 non-null    int64         \n",
      " 28  MaxTeamSize                       472 non-null    int64         \n",
      " 29  BanTeamMergers                    472 non-null    bool          \n",
      " 30  EnableTeamModels                  472 non-null    bool          \n",
      " 31  EnableSubmissionModelHashes       472 non-null    bool          \n",
      " 32  EnableSubmissionModelAttachments  472 non-null    bool          \n",
      " 33  RewardType                        463 non-null    object        \n",
      " 34  RewardQuantity                    472 non-null    object        \n",
      " 35  NumPrizes                         472 non-null    int64         \n",
      " 36  UserRankMultiplier                472 non-null    float64       \n",
      " 37  CanQualifyTiers                   472 non-null    bool          \n",
      " 38  TotalTeams                        472 non-null    int64         \n",
      " 39  TotalCompetitors                  472 non-null    int64         \n",
      " 40  TotalSubmissions                  472 non-null    int64         \n",
      " 41  EvaluationLabel                   472 non-null    object        \n",
      " 42  DeadlineDateText                  472 non-null    object        \n",
      " 43  EnabledDateText                   472 non-null    object        \n",
      " 44  Year                              472 non-null    int64         \n",
      " 45  Days                              472 non-null    float64       \n",
      " 46  FinalWeek                         472 non-null    datetime64[ns]\n",
      "dtypes: bool(9), datetime64[ns](3), float64(5), int64(10), object(20)\n",
      "memory usage: 148.0+ KB\n"
     ]
    }
   ],
   "source": [
    "comps.info()"
   ]
  },
  {
   "cell_type": "code",
   "execution_count": 4,
   "id": "96ff4e9c-9d04-419b-ba12-cc6f4c4073aa",
   "metadata": {},
   "outputs": [
    {
     "data": {
      "text/html": [
       "<div>\n",
       "<style scoped>\n",
       "    .dataframe tbody tr th:only-of-type {\n",
       "        vertical-align: middle;\n",
       "    }\n",
       "\n",
       "    .dataframe tbody tr th {\n",
       "        vertical-align: top;\n",
       "    }\n",
       "\n",
       "    .dataframe thead th {\n",
       "        text-align: right;\n",
       "    }\n",
       "</style>\n",
       "<table border=\"1\" class=\"dataframe\">\n",
       "  <thead>\n",
       "    <tr style=\"text-align: right;\">\n",
       "      <th></th>\n",
       "      <th>EvaluationLabel</th>\n",
       "      <th>EvaluationAlgorithmIsMax</th>\n",
       "      <th>Slug</th>\n",
       "    </tr>\n",
       "  </thead>\n",
       "  <tbody>\n",
       "    <tr>\n",
       "      <th>0</th>\n",
       "      <td>AUC</td>\n",
       "      <td>True</td>\n",
       "      <td>67</td>\n",
       "    </tr>\n",
       "    <tr>\n",
       "      <th>2</th>\n",
       "      <td>CategorizationAccuracy</td>\n",
       "      <td>True</td>\n",
       "      <td>33</td>\n",
       "    </tr>\n",
       "    <tr>\n",
       "      <th>7</th>\n",
       "      <td>MAP@{K}</td>\n",
       "      <td>True</td>\n",
       "      <td>15</td>\n",
       "    </tr>\n",
       "    <tr>\n",
       "      <th>8</th>\n",
       "      <td>MeanFScore</td>\n",
       "      <td>True</td>\n",
       "      <td>9</td>\n",
       "    </tr>\n",
       "    <tr>\n",
       "      <th>9</th>\n",
       "      <td>MacroFScore</td>\n",
       "      <td>True</td>\n",
       "      <td>9</td>\n",
       "    </tr>\n",
       "    <tr>\n",
       "      <th>10</th>\n",
       "      <td>MeanFScoreBeta</td>\n",
       "      <td>True</td>\n",
       "      <td>8</td>\n",
       "    </tr>\n",
       "    <tr>\n",
       "      <th>11</th>\n",
       "      <td>QuadraticWeightedKappa</td>\n",
       "      <td>True</td>\n",
       "      <td>7</td>\n",
       "    </tr>\n",
       "    <tr>\n",
       "      <th>13</th>\n",
       "      <td>MAP@k</td>\n",
       "      <td>True</td>\n",
       "      <td>7</td>\n",
       "    </tr>\n",
       "    <tr>\n",
       "      <th>14</th>\n",
       "      <td>GoogleGlobalAP</td>\n",
       "      <td>True</td>\n",
       "      <td>6</td>\n",
       "    </tr>\n",
       "    <tr>\n",
       "      <th>16</th>\n",
       "      <td>MCAUC</td>\n",
       "      <td>True</td>\n",
       "      <td>6</td>\n",
       "    </tr>\n",
       "  </tbody>\n",
       "</table>\n",
       "</div>"
      ],
      "text/plain": [
       "           EvaluationLabel  EvaluationAlgorithmIsMax  Slug\n",
       "0                      AUC                      True    67\n",
       "2   CategorizationAccuracy                      True    33\n",
       "7                  MAP@{K}                      True    15\n",
       "8               MeanFScore                      True     9\n",
       "9              MacroFScore                      True     9\n",
       "10          MeanFScoreBeta                      True     8\n",
       "11  QuadraticWeightedKappa                      True     7\n",
       "13                   MAP@k                      True     7\n",
       "14          GoogleGlobalAP                      True     6\n",
       "16                   MCAUC                      True     6"
      ]
     },
     "execution_count": 4,
     "metadata": {},
     "output_type": "execute_result"
    }
   ],
   "source": [
    "comp_eval_count = comps.groupby(['EvaluationLabel','EvaluationAlgorithmIsMax'])[['Slug']].count().sort_values('Slug',ascending=False)\n",
    "comp_eval_count = comp_eval_count.reset_index()\n",
    "comp_eval_count = comp_eval_count[comp_eval_count['EvaluationAlgorithmIsMax'] == True]\n",
    "eval_algo_list = comp_eval_count[comp_eval_count['Slug'] > 5]['EvaluationLabel']\n",
    "comp_eval_count[comp_eval_count['Slug'] > 5]"
   ]
  },
  {
   "cell_type": "code",
   "execution_count": 5,
   "id": "fc71e4d7-9d61-45b3-ba62-a8bb6dbffedb",
   "metadata": {},
   "outputs": [],
   "source": [
    "comps_interest = comps[comps[\"EvaluationLabel\"].isin(eval_algo_list)]\n",
    "comp_id = comps_interest.sort_values(by=['TotalSubmissions'], ascending=False).index[:n_comp] # Top n competitions ranked by total number of submissions (hotness)\n",
    "\n",
    "teams = read_csv_filtered('Teams.csv', 'CompetitionId', comp_id).set_index('Id') # Teams that participate in these competitions\n",
    "tmemb = read_csv_filtered('TeamMemberships.csv', 'TeamId', teams.index).set_index('Id')\n",
    "users = read_csv_filtered('Users.csv', 'Id', tmemb.UserId)\n",
    "tmemb = tmemb.merge(users, left_on='UserId', right_on='Id') # Some further cleaning of teams\n",
    "\n",
    "# Submissions\n",
    "subs = read_csv_filtered('Submissions.csv', 'TeamId', tmemb.TeamId) # Submission of these teams\n",
    "subs = subs.rename(columns={'PublicScoreFullPrecision': 'Public'})\n",
    "subs = subs.rename(columns={'PrivateScoreFullPrecision': 'Private'})\n",
    "subs['SubmissionDate'] = pd.to_datetime(subs.SubmissionDate)\n",
    "\n",
    "asfloats = ['PublicScoreLeaderboardDisplay',\n",
    "            'Public',\n",
    "            'PrivateScoreLeaderboardDisplay',\n",
    "            'Private',]\n",
    "\n",
    "subs[asfloats] = subs[asfloats].astype(float)\n",
    "\n",
    "subs = subs.query('not IsAfterDeadline').copy()\n",
    "subs['CompetitionId'] = subs.TeamId.map(teams.CompetitionId)\n",
    "subs['CompetitionSlug'] = subs.CompetitionId.map(comps.Slug)\n",
    "subs['TeamName'] = subs.TeamId.map(teams.TeamName)\n",
    "\n",
    "# values some competitions use as invalid scores\n",
    "for bad in [99, 999999]:\n",
    "    for c in asfloats:\n",
    "        idx = (subs[c] == bad)\n",
    "        subs.loc[idx, c] = subs.loc[idx, c].replace({bad: np.nan})\n",
    "\n",
    "# Display order: most recent competitions first\n",
    "subs = subs.sort_values(['CompetitionId', 'Id'], ascending=[False, True])"
   ]
  },
  {
   "cell_type": "code",
   "execution_count": 6,
   "id": "5311fd31-1eb2-4edd-8941-6cd7388eb6d8",
   "metadata": {},
   "outputs": [
    {
     "name": "stdout",
     "output_type": "stream",
     "text": [
      "<class 'pandas.core.frame.DataFrame'>\n",
      "Int64Index: 2573180 entries, 10415310 to 807963\n",
      "Data columns (total 14 columns):\n",
      " #   Column                          Dtype         \n",
      "---  ------                          -----         \n",
      " 0   Id                              int64         \n",
      " 1   SubmittedUserId                 float64       \n",
      " 2   TeamId                          int64         \n",
      " 3   SourceKernelVersionId           float64       \n",
      " 4   SubmissionDate                  datetime64[ns]\n",
      " 5   ScoreDate                       object        \n",
      " 6   IsAfterDeadline                 bool          \n",
      " 7   PublicScoreLeaderboardDisplay   float64       \n",
      " 8   Public                          float64       \n",
      " 9   PrivateScoreLeaderboardDisplay  float64       \n",
      " 10  Private                         float64       \n",
      " 11  CompetitionId                   int64         \n",
      " 12  CompetitionSlug                 object        \n",
      " 13  TeamName                        object        \n",
      "dtypes: bool(1), datetime64[ns](1), float64(6), int64(3), object(3)\n",
      "memory usage: 277.3+ MB\n"
     ]
    }
   ],
   "source": [
    "subs.info()"
   ]
  },
  {
   "cell_type": "code",
   "execution_count": 7,
   "id": "2cc8a741-94dd-4fcd-83e2-67cc914aa967",
   "metadata": {},
   "outputs": [
    {
     "data": {
      "text/html": [
       "<div>\n",
       "<style scoped>\n",
       "    .dataframe tbody tr th:only-of-type {\n",
       "        vertical-align: middle;\n",
       "    }\n",
       "\n",
       "    .dataframe tbody tr th {\n",
       "        vertical-align: top;\n",
       "    }\n",
       "\n",
       "    .dataframe thead th {\n",
       "        text-align: right;\n",
       "    }\n",
       "</style>\n",
       "<table border=\"1\" class=\"dataframe\">\n",
       "  <thead>\n",
       "    <tr style=\"text-align: right;\">\n",
       "      <th></th>\n",
       "      <th>Public</th>\n",
       "      <th>PublicScoreLeaderboardDisplay</th>\n",
       "    </tr>\n",
       "  </thead>\n",
       "  <tbody>\n",
       "    <tr>\n",
       "      <th>10415310</th>\n",
       "      <td>0.833741</td>\n",
       "      <td>0.83374</td>\n",
       "    </tr>\n",
       "    <tr>\n",
       "      <th>10415311</th>\n",
       "      <td>0.925039</td>\n",
       "      <td>0.92503</td>\n",
       "    </tr>\n",
       "    <tr>\n",
       "      <th>10415312</th>\n",
       "      <td>0.916157</td>\n",
       "      <td>0.91615</td>\n",
       "    </tr>\n",
       "    <tr>\n",
       "      <th>10531357</th>\n",
       "      <td>0.887718</td>\n",
       "      <td>0.88771</td>\n",
       "    </tr>\n",
       "    <tr>\n",
       "      <th>10415313</th>\n",
       "      <td>0.922803</td>\n",
       "      <td>0.92280</td>\n",
       "    </tr>\n",
       "    <tr>\n",
       "      <th>...</th>\n",
       "      <td>...</td>\n",
       "      <td>...</td>\n",
       "    </tr>\n",
       "    <tr>\n",
       "      <th>66638</th>\n",
       "      <td>0.621698</td>\n",
       "      <td>0.62169</td>\n",
       "    </tr>\n",
       "    <tr>\n",
       "      <th>188358</th>\n",
       "      <td>0.843586</td>\n",
       "      <td>0.84358</td>\n",
       "    </tr>\n",
       "    <tr>\n",
       "      <th>244991</th>\n",
       "      <td>0.560143</td>\n",
       "      <td>0.56014</td>\n",
       "    </tr>\n",
       "    <tr>\n",
       "      <th>82885</th>\n",
       "      <td>0.862308</td>\n",
       "      <td>0.86230</td>\n",
       "    </tr>\n",
       "    <tr>\n",
       "      <th>807963</th>\n",
       "      <td>0.701991</td>\n",
       "      <td>0.70199</td>\n",
       "    </tr>\n",
       "  </tbody>\n",
       "</table>\n",
       "<p>2573180 rows × 2 columns</p>\n",
       "</div>"
      ],
      "text/plain": [
       "            Public  PublicScoreLeaderboardDisplay\n",
       "10415310  0.833741                        0.83374\n",
       "10415311  0.925039                        0.92503\n",
       "10415312  0.916157                        0.91615\n",
       "10531357  0.887718                        0.88771\n",
       "10415313  0.922803                        0.92280\n",
       "...            ...                            ...\n",
       "66638     0.621698                        0.62169\n",
       "188358    0.843586                        0.84358\n",
       "244991    0.560143                        0.56014\n",
       "82885     0.862308                        0.86230\n",
       "807963    0.701991                        0.70199\n",
       "\n",
       "[2573180 rows x 2 columns]"
      ]
     },
     "execution_count": 7,
     "metadata": {},
     "output_type": "execute_result"
    }
   ],
   "source": [
    "subs[['Public', 'PublicScoreLeaderboardDisplay']]"
   ]
  },
  {
   "cell_type": "code",
   "execution_count": 8,
   "id": "389838e7-4c5b-4d65-858a-2b95e59f5fbd",
   "metadata": {},
   "outputs": [
    {
     "name": "stdout",
     "output_type": "stream",
     "text": [
      "<class 'pandas.core.frame.DataFrame'>\n",
      "Int64Index: 167 entries, 2439 to 33104\n",
      "Data columns (total 47 columns):\n",
      " #   Column                            Non-Null Count  Dtype         \n",
      "---  ------                            --------------  -----         \n",
      " 0   Slug                              167 non-null    object        \n",
      " 1   Title                             167 non-null    object        \n",
      " 2   Subtitle                          167 non-null    object        \n",
      " 3   HostSegmentTitle                  167 non-null    object        \n",
      " 4   ForumId                           167 non-null    float64       \n",
      " 5   OrganizationId                    109 non-null    float64       \n",
      " 6   CompetitionTypeId                 167 non-null    int64         \n",
      " 7   HostName                          82 non-null     object        \n",
      " 8   EnabledDate                       167 non-null    datetime64[ns]\n",
      " 9   DeadlineDate                      167 non-null    datetime64[ns]\n",
      " 10  ProhibitNewEntrantsDeadlineDate   92 non-null     object        \n",
      " 11  TeamMergerDeadlineDate            89 non-null     object        \n",
      " 12  TeamModelDeadlineDate             72 non-null     object        \n",
      " 13  ModelSubmissionDeadlineDate       4 non-null      object        \n",
      " 14  FinalLeaderboardHasBeenVerified   167 non-null    bool          \n",
      " 15  HasKernels                        167 non-null    bool          \n",
      " 16  OnlyAllowKernelSubmissions        167 non-null    bool          \n",
      " 17  HasLeaderboard                    167 non-null    bool          \n",
      " 18  LeaderboardPercentage             167 non-null    int64         \n",
      " 19  LeaderboardDisplayFormat          167 non-null    float64       \n",
      " 20  EvaluationAlgorithmAbbreviation   167 non-null    object        \n",
      " 21  EvaluationAlgorithmName           167 non-null    object        \n",
      " 22  EvaluationAlgorithmDescription    167 non-null    object        \n",
      " 23  EvaluationAlgorithmIsMax          167 non-null    object        \n",
      " 24  ValidationSetName                 92 non-null     object        \n",
      " 25  ValidationSetValue                85 non-null     object        \n",
      " 26  MaxDailySubmissions               167 non-null    int64         \n",
      " 27  NumScoredSubmissions              167 non-null    int64         \n",
      " 28  MaxTeamSize                       167 non-null    int64         \n",
      " 29  BanTeamMergers                    167 non-null    bool          \n",
      " 30  EnableTeamModels                  167 non-null    bool          \n",
      " 31  EnableSubmissionModelHashes       167 non-null    bool          \n",
      " 32  EnableSubmissionModelAttachments  167 non-null    bool          \n",
      " 33  RewardType                        166 non-null    object        \n",
      " 34  RewardQuantity                    167 non-null    object        \n",
      " 35  NumPrizes                         167 non-null    int64         \n",
      " 36  UserRankMultiplier                167 non-null    float64       \n",
      " 37  CanQualifyTiers                   167 non-null    bool          \n",
      " 38  TotalTeams                        167 non-null    int64         \n",
      " 39  TotalCompetitors                  167 non-null    int64         \n",
      " 40  TotalSubmissions                  167 non-null    int64         \n",
      " 41  EvaluationLabel                   167 non-null    object        \n",
      " 42  DeadlineDateText                  167 non-null    object        \n",
      " 43  EnabledDateText                   167 non-null    object        \n",
      " 44  Year                              167 non-null    int64         \n",
      " 45  Days                              167 non-null    float64       \n",
      " 46  FinalWeek                         167 non-null    datetime64[ns]\n",
      "dtypes: bool(9), datetime64[ns](3), float64(5), int64(10), object(20)\n",
      "memory usage: 52.4+ KB\n"
     ]
    }
   ],
   "source": [
    "comps_interest.info()"
   ]
  },
  {
   "cell_type": "code",
   "execution_count": 9,
   "id": "fa9c4f8c-b51c-44e1-8703-e8651c3b87d2",
   "metadata": {},
   "outputs": [
    {
     "name": "stdout",
     "output_type": "stream",
     "text": [
      "Private score not in [0,1]: data-science-bowl-2019\n",
      "Too few periods: cassava-leaf-disease-classification\n",
      "Private score not in [0,1]: aptos2019-blindness-detection\n",
      "Private score not in [0,1]: prudential-life-insurance-assessment\n",
      "Invalid prize: dont-overfit-ii -- \"\"\n",
      "Private score not in [0,1]: rsna-miccai-brain-tumor-radiogenomic-classification\n",
      "Private score not in [0,1]: crowdflower-search-relevance\n",
      "Too few periods: expedia-hotel-recommendations\n",
      "Invalid prize: plant-pathology-2020-fgvc7 -- \"0.0\"\n",
      "Private score not in [0,1]: histopathologic-cancer-detection\n",
      "Private score not in [0,1]: prostate-cancer-grade-assessment\n",
      "Private score not in [0,1]: landmark-recognition-2020\n",
      "Invalid prize: tabular-playground-series-sep-2021 -- \"0.0\"\n",
      "Private score not in [0,1]: career-con-2019\n",
      "Private score not in [0,1]: forest-cover-type-prediction\n",
      "Invalid prize: tabular-playground-series-apr-2021 -- \"0.0\"\n",
      "Invalid prize: facebook-v-predicting-check-ins -- \"0.0\"\n",
      "Invalid prize: tabular-playground-series-nov-2021 -- \"0.0\"\n",
      "Invalid prize: whats-cooking -- \"0.0\"\n",
      "Invalid prize: cat-in-the-dat-ii -- \"0.0\"\n",
      "Invalid prize: facebook-recruiting-iv-human-or-bot -- \"1.0\"\n",
      "Invalid prize: cat-in-the-dat -- \"0.0\"\n",
      "Invalid prize: tabular-playground-series-mar-2021 -- \"0.0\"\n",
      "Invalid prize: tabular-playground-series-dec-2021 -- \"0.0\"\n",
      "Invalid prize: tabular-playground-series-feb-2022 -- \"0.0\"\n",
      "Invalid prize: Kannada-MNIST -- \"\"\n",
      "Invalid prize: plant-pathology-2021-fgvc8 -- \"0.0\"\n",
      "Invalid prize: flower-classification-with-tpus -- \"\"\n",
      "Invalid prize: tabular-playground-series-oct-2021 -- \"0.0\"\n",
      "Invalid prize: landmark-recognition-2021 -- \"0.0\"\n",
      "Private score not in [0,1]: ghouls-goblins-and-ghosts-boo\n",
      "Private score not in [0,1]: plant-seedlings-classification\n",
      "Invalid prize: tabular-playground-series-apr-2022 -- \"0.0\"\n",
      "Private score not in [0,1]: diabetic-retinopathy-detection\n",
      "Invalid prize: recognizing-faces-in-the-wild -- \"\"\n",
      "Invalid prize: sentiment-analysis-on-movie-reviews -- \"\"\n",
      "Invalid prize: landmark-retrieval-2021 -- \"0.0\"\n",
      "Private score not in [0,1]: aerial-cactus-identification\n",
      "Invalid prize: costa-rican-household-poverty-prediction -- \"0.0\"\n",
      "Invalid prize: donorschoose-application-screening -- \"0.0\"\n",
      "Invalid prize: freesound-audio-tagging -- \"0.0\"\n",
      "Invalid prize: whale-categorization-playground -- \"0.0\"\n",
      "Invalid prize: whats-cooking-kernels-only -- \"\"\n",
      "Invalid prize: yelp-restaurant-photo-classification -- \"\"\n",
      "Invalid prize: word2vec-nlp-tutorial -- \"0.0\"\n",
      "Invalid prize: invasive-species-monitoring -- \"\"\n",
      "Invalid prize: movie-review-sentiment-analysis-kernels-only -- \"\"\n",
      "Total Competitions Saved: 53\n"
     ]
    }
   ],
   "source": [
    "useful_cols = ['SubmissionDate',\n",
    "               'Public',\n",
    "               'Private',\n",
    "               'TeamId',\n",
    "               'TeamName']\n",
    "\n",
    "# res_df = pd.DataFrame(columns=['n_i', 'x_i', 'n_j', 'x_j', 'y_i','dZ'])\n",
    "res_list = []\n",
    "# prob_idx = []\n",
    "comp_df = pd.DataFrame(columns=['T', 'theta', 'perc'])\n",
    "comp_length_list = []\n",
    "prize_list = []\n",
    "\n",
    "n = 0\n",
    "threshold = 0.2\n",
    "\n",
    "for c_id in comp_id:\n",
    "    slug = comps.loc[c_id]['Slug']\n",
    "    df = subs.query(f\"CompetitionId=={c_id}\") # Raw DataFrame for the Competition\n",
    "    \n",
    "    if (df['Private'].values >= 1).any() or (df['Private'].values < 0).any():\n",
    "        print(f'Private score not in [0,1]: {slug}')\n",
    "        continue\n",
    "\n",
    "    prize = comps.loc[c_id]['RewardQuantity']\n",
    "    if type(prize) != float or prize < 1000:\n",
    "        print(f'Invalid prize: {slug} -- \"{prize}\"')\n",
    "        continue\n",
    "\n",
    "    prize = prize / 1000\n",
    "    data_amt = comps.loc[c_id]['LeaderboardPercentage'] / 100\n",
    "    \n",
    "    key_col = 'TeamId'\n",
    "    last_day = df['SubmissionDate'].max()\n",
    "\n",
    "    names = df[['TeamId', 'TeamName']].drop_duplicates().set_index('TeamId')\n",
    "    # score = df[df['SubmissionDate'] == last_day].groupby(key_col)['Private'].max().sort_values(ascending=False)\n",
    "    score = df.groupby(key_col)['Private'].max().sort_values(ascending=False)\n",
    "\n",
    "    submission = df.groupby(key_col)['SubmissionDate'].count().sort_values(ascending=False)\n",
    "    submission.name = 'Submissions'\n",
    "\n",
    "    first_day = df.groupby(key_col)['SubmissionDate'].min()\n",
    "    first_day.name = 'FirstDay'\n",
    "\n",
    "    last_day = df.groupby(key_col)['SubmissionDate'].max()\n",
    "    last_day.name = 'LastDay'\n",
    "\n",
    "    duration = last_day - first_day\n",
    "    duration.name = 'Duration'\n",
    "    \n",
    "    summary = pd.concat([names, score, duration, first_day, last_day, submission],axis=1).sort_values(['Private', 'Duration', 'Submissions'], ascending=False)\n",
    "    summary = summary.dropna(axis=0)\n",
    "\n",
    "    filtered_team = summary.index[:2] # Need Modification for our criteria\n",
    "    filtered_data = df[df['TeamId'].isin(filtered_team)][useful_cols]\n",
    "    filtered_data = filtered_data.dropna()\n",
    "    \n",
    "    start = filtered_data[filtered_data['Private']!=0].groupby('TeamId')['SubmissionDate'].min().max()\n",
    "\n",
    "    filtered_data['t'] = (filtered_data.SubmissionDate - start).dt.days // 7 + 1\n",
    "    n_x = filtered_data.groupby(by=['TeamId', 't']).agg(n =pd.NamedAgg('SubmissionDate', aggfunc='count'),\n",
    "                                       x = pd.NamedAgg('Private', aggfunc='max'),\n",
    "                                       public = pd.NamedAgg('Public', aggfunc='max'))\n",
    "    \n",
    "    df_i = n_x.loc[filtered_team[0]]\n",
    "    df_j = n_x.loc[filtered_team[1]]\n",
    "    df_full = df_i.merge(df_j,left_index=True,right_index=True,how='outer', suffixes=('_i','_j'))\n",
    "    df_full[['n_i', 'n_j']] = df_full[['n_i', 'n_j']].fillna(0)\n",
    "    df_full[['x_i', 'x_j', 'public_i', 'public_j']] = df_full[['x_i', 'x_j', 'public_i', 'public_j']].fillna(method='ffill')\n",
    "    df_full[['x_i', 'x_j', 'public_i', 'public_j']] = df_full[['x_i', 'x_j', 'public_i', 'public_j']].cummax()\n",
    "    \n",
    "    if (df_full['n_i'] + df_full['x_i'] == 0).any() or (df_full['n_j'] + df_full['x_j'] == 0).any() :\n",
    "        # globals()['temp_df'] = filtered_data\n",
    "        print(f'Inconsistent Participation: {slug}')\n",
    "        continue\n",
    "        \n",
    "    df_full['y_i'] = df_full['x_i'] - df_full['x_j']\n",
    "    df_full['dZ'] = df_full['public_i'] - df_full['public_j']\n",
    "    df_full.drop(columns=['public_i', 'public_j'], inplace=True)\n",
    "    cleaned_data = df_full[df_full.index > 0]\n",
    "    \n",
    "    sus_rows = cleaned_data[(cleaned_data[['x_i', 'x_j']] == 0.5).any(axis=1)]\n",
    "    if sus_rows.shape[0] != 0:\n",
    "        print(f'Suspect Df: {slug}')\n",
    "        continue\n",
    "    # if (np.abs(sus_rows['dZ'] - sus_rows['y_i']) > threshold).any():\n",
    "    #     print(f'Missing Scores: {slug}')\n",
    "    #     continue\n",
    "\n",
    "    # Book Keeping\n",
    "    comp_len = cleaned_data.shape[0]\n",
    "    if comp_len <= 2:\n",
    "        print(f'Too few periods: {slug}')\n",
    "        continue\n",
    "    \n",
    "    res_list.append(cleaned_data)\n",
    "    # res_df = pd.concat([res_df, cleaned_data])\n",
    "    comp_df = comp_df.append({'Slug': slug,'T': comp_len, 'theta': prize, 'perc': data_amt}, ignore_index=True)\n",
    "    n+=1\n",
    "\n",
    "print(f'Total Competitions Saved: {n}')\n",
    "\n",
    "res_df = pd.concat(res_list)\n",
    "res_df.to_csv('cleaned_data.csv', index=False)\n",
    "comp_df.to_csv('comp_info.csv', index=False)"
   ]
  },
  {
   "cell_type": "markdown",
   "id": "03990c08-2b96-4545-b024-3621c8c9f6c7",
   "metadata": {
    "jp-MarkdownHeadingCollapsed": true,
    "tags": []
   },
   "source": [
    "### Model Validity Check"
   ]
  },
  {
   "cell_type": "code",
   "execution_count": 92,
   "id": "068022dd-cb59-40b1-8b64-77a2bcc0804c",
   "metadata": {},
   "outputs": [
    {
     "name": "stdout",
     "output_type": "stream",
     "text": [
      "Private score not in [0,1]: data-science-bowl-2019\n",
      "Too few periods: cassava-leaf-disease-classification\n",
      "Private score not in [0,1]: aptos2019-blindness-detection\n",
      "Private score not in [0,1]: prudential-life-insurance-assessment\n",
      "Non-numerical prize: dont-overfit-ii -- \"\"\n",
      "Private score not in [0,1]: rsna-miccai-brain-tumor-radiogenomic-classification\n",
      "Private score not in [0,1]: crowdflower-search-relevance\n",
      "Too few periods: expedia-hotel-recommendations\n",
      "Private score not in [0,1]: histopathologic-cancer-detection\n",
      "Private score not in [0,1]: prostate-cancer-grade-assessment\n",
      "Private score not in [0,1]: landmark-recognition-2020\n",
      "Private score not in [0,1]: career-con-2019\n",
      "Private score not in [0,1]: forest-cover-type-prediction\n",
      "Too few periods: tabular-playground-series-apr-2021\n",
      "Too few periods: tabular-playground-series-mar-2021\n",
      "Too few periods: tabular-playground-series-dec-2021\n",
      "Non-numerical prize: Kannada-MNIST -- \"\"\n",
      "Non-numerical prize: flower-classification-with-tpus -- \"\"\n",
      "Too few periods: tabular-playground-series-oct-2021\n",
      "Private score not in [0,1]: ghouls-goblins-and-ghosts-boo\n",
      "Private score not in [0,1]: plant-seedlings-classification\n",
      "Too few periods: tabular-playground-series-apr-2022\n",
      "Private score not in [0,1]: diabetic-retinopathy-detection\n",
      "Non-numerical prize: recognizing-faces-in-the-wild -- \"\"\n",
      "Non-numerical prize: sentiment-analysis-on-movie-reviews -- \"\"\n",
      "Private score not in [0,1]: aerial-cactus-identification\n",
      "Too few periods: costa-rican-household-poverty-prediction\n",
      "Non-numerical prize: whats-cooking-kernels-only -- \"\"\n",
      "Non-numerical prize: yelp-restaurant-photo-classification -- \"\"\n",
      "Too few periods: word2vec-nlp-tutorial\n",
      "Non-numerical prize: invasive-species-monitoring -- \"\"\n",
      "Non-numerical prize: movie-review-sentiment-analysis-kernels-only -- \"\"\n",
      "Too few periods: overfitting\n",
      "Total Competitions Checked: 67\n"
     ]
    }
   ],
   "source": [
    "useful_cols = ['SubmissionDate',\n",
    "               'Public',\n",
    "               'Private',\n",
    "               'TeamId',\n",
    "               'TeamName']\n",
    "\n",
    "# res_df = pd.DataFrame(columns=['n_i', 'x_i', 'n_j', 'x_j', 'y_i','dZ'])\n",
    "check_list = []\n",
    "# prob_idx = []\n",
    "\n",
    "n = 0\n",
    "threshold = 0.2\n",
    "\n",
    "for c_id in comp_id:\n",
    "    slug = comps.loc[c_id]['Slug']\n",
    "    df = subs.query(f\"CompetitionId=={c_id}\") # Raw DataFrame for the Competition\n",
    "    \n",
    "    if (df['Private'].values >= 1).any() or (df['Private'].values < 0).any():\n",
    "        print(f'Private score not in [0,1]: {slug}')\n",
    "        continue\n",
    "\n",
    "    prize = comps.loc[c_id]['RewardQuantity']\n",
    "    if type(prize) != float or prize < 1000:\n",
    "        print(f'Invalid prize: {slug} -- \"{prize}\"')\n",
    "        continue\n",
    "\n",
    "    prize = prize / 1000\n",
    "    data_amt = comps.loc[c_id]['LeaderboardPercentage'] / 100\n",
    "    \n",
    "    key_col = 'TeamId'\n",
    "    last_day = df['SubmissionDate'].max()\n",
    "\n",
    "    names = df[['TeamId', 'TeamName']].drop_duplicates().set_index('TeamId')\n",
    "    # score = df[df['SubmissionDate'] == last_day].groupby(key_col)['Private'].max().sort_values(ascending=False)\n",
    "    score = df.groupby(key_col)['Private'].max().sort_values(ascending=False)\n",
    "\n",
    "    submission = df.groupby(key_col)['SubmissionDate'].count().sort_values(ascending=False)\n",
    "    submission.name = 'Submissions'\n",
    "\n",
    "    first_day = df.groupby(key_col)['SubmissionDate'].min()\n",
    "    first_day.name = 'FirstDay'\n",
    "\n",
    "    last_day = df.groupby(key_col)['SubmissionDate'].max()\n",
    "    last_day.name = 'LastDay'\n",
    "\n",
    "    duration = last_day - first_day\n",
    "    duration.name = 'Duration'\n",
    "    \n",
    "    summary = pd.concat([names, score, duration, first_day, last_day, submission],axis=1).sort_values(['Private', 'Duration', 'Submissions'], ascending=False)\n",
    "    summary = summary.dropna(axis=0)\n",
    "\n",
    "    filtered_team = summary.index[:2] # Need Modification for our criteria\n",
    "    filtered_data = df[df['TeamId'].isin(filtered_team)][useful_cols]\n",
    "    filtered_data = filtered_data.dropna()\n",
    "    \n",
    "    start = filtered_data[filtered_data['Private']!=0].groupby('TeamId')['SubmissionDate'].min().max()\n",
    "\n",
    "    filtered_data['t'] = (filtered_data.SubmissionDate - start).dt.days // 7 + 1\n",
    "    n_x = filtered_data.groupby(by=['TeamId', 't']).agg(n =pd.NamedAgg('SubmissionDate', aggfunc='count'),\n",
    "                                       x = pd.NamedAgg('Private', aggfunc='max'),\n",
    "                                       public = pd.NamedAgg('Public', aggfunc='max'))\n",
    "    \n",
    "    df_i = n_x.loc[filtered_team[0]]\n",
    "    df_j = n_x.loc[filtered_team[1]]\n",
    "    df_full = df_i.merge(df_j,left_index=True,right_index=True,how='outer', suffixes=('_i','_j'))\n",
    "    df_full[['n_i', 'n_j']] = df_full[['n_i', 'n_j']].fillna(0)\n",
    "    df_full[['x_i', 'x_j', 'public_i', 'public_j']] = df_full[['x_i', 'x_j', 'public_i', 'public_j']].fillna(method='ffill')\n",
    "    df_full[['x_i', 'x_j', 'public_i', 'public_j']] = df_full[['x_i', 'x_j', 'public_i', 'public_j']].cummax()\n",
    "    \n",
    "    df_full['dx_i'] = df_full['x_i'].diff()\n",
    "    df_full['dx_j'] = df_full['x_j'].diff()\n",
    "    df_full = df_full.dropna()\n",
    "    \n",
    "    if (df_full['n_i'] + df_full['x_i'] == 0).any() or (df_full['n_j'] + df_full['x_j'] == 0).any() :\n",
    "        # globals()['temp_df'] = filtered_data\n",
    "        print(f'Inconsistent Participation: {slug}')\n",
    "        continue\n",
    "        \n",
    "    df_full['y_i'] = df_full['x_i'] - df_full['x_j']\n",
    "    df_full['dZ'] = df_full['public_i'] - df_full['public_j']\n",
    "    df_full.drop(columns=['public_i', 'public_j'], inplace=True)\n",
    "    cleaned_data = df_full[df_full.index > 0]\n",
    "    cleaned_data['comp'] = np.repeat(n,cleaned_data.shape[0])\n",
    "    \n",
    "    sus_rows = cleaned_data[(cleaned_data[['x_i', 'x_j']] == 0.5).any(axis=1)]\n",
    "    if sus_rows.shape[0] != 0:\n",
    "        print(f'Suspect Df: {slug}')\n",
    "        continue\n",
    "    # if (np.abs(sus_rows['dZ'] - sus_rows['y_i']) > threshold).any():\n",
    "    #     print(f'Missing Scores: {slug}')\n",
    "    #     continue\n",
    "\n",
    "    # Book Keeping\n",
    "    comp_len = cleaned_data.shape[0]\n",
    "    if comp_len <= 2:\n",
    "        print(f'Too few periods: {slug}')\n",
    "        continue\n",
    "    \n",
    "    check_list.append(cleaned_data)\n",
    "    n+=1\n",
    "\n",
    "print(f'Total Competitions Checked: {n}')\n",
    "\n",
    "check_df = pd.concat(check_list)\n",
    "check_df.to_csv(\"check_df.csv\")"
   ]
  },
  {
   "cell_type": "code",
   "execution_count": 93,
   "id": "694875e5-bd9b-4626-a7fd-3aebbd1d603b",
   "metadata": {},
   "outputs": [],
   "source": [
    "import statsmodels.formula.api as smf\n",
    "\n",
    "mod_i = smf.ols(formula='n_i ~ dx_i', data=check_df)\n",
    "mod_j = smf.ols(formula='n_j ~ dx_j', data=check_df)"
   ]
  },
  {
   "cell_type": "code",
   "execution_count": 94,
   "id": "063454bd-4ac0-4487-98e1-bf6a47a4f15d",
   "metadata": {},
   "outputs": [
    {
     "name": "stdout",
     "output_type": "stream",
     "text": [
      "                            OLS Regression Results                            \n",
      "==============================================================================\n",
      "Dep. Variable:                    n_i   R-squared:                       0.002\n",
      "Model:                            OLS   Adj. R-squared:                 -0.000\n",
      "Method:                 Least Squares   F-statistic:                    0.8358\n",
      "Date:                Sat, 11 Jun 2022   Prob (F-statistic):              0.361\n",
      "Time:                        22:08:05   Log-Likelihood:                -1861.4\n",
      "No. Observations:                 448   AIC:                             3727.\n",
      "Df Residuals:                     446   BIC:                             3735.\n",
      "Df Model:                           1                                         \n",
      "Covariance Type:            nonrobust                                         \n",
      "==============================================================================\n",
      "                 coef    std err          t      P>|t|      [0.025      0.975]\n",
      "------------------------------------------------------------------------------\n",
      "Intercept     16.9294      0.757     22.362      0.000      15.442      18.417\n",
      "dx_i          18.3858     20.111      0.914      0.361     -21.139      57.911\n",
      "==============================================================================\n",
      "Omnibus:                      115.308   Durbin-Watson:                   0.852\n",
      "Prob(Omnibus):                  0.000   Jarque-Bera (JB):              291.422\n",
      "Skew:                           1.269   Prob(JB):                     5.23e-64\n",
      "Kurtosis:                       6.028   Cond. No.                         27.5\n",
      "==============================================================================\n",
      "\n",
      "Notes:\n",
      "[1] Standard Errors assume that the covariance matrix of the errors is correctly specified.\n"
     ]
    }
   ],
   "source": [
    "res_i = mod_i.fit()\n",
    "print(res_i.summary())"
   ]
  },
  {
   "cell_type": "code",
   "execution_count": 95,
   "id": "e03b100e-95c1-4e2d-a141-fa63f9db568f",
   "metadata": {},
   "outputs": [
    {
     "name": "stdout",
     "output_type": "stream",
     "text": [
      "                            OLS Regression Results                            \n",
      "==============================================================================\n",
      "Dep. Variable:                    n_j   R-squared:                       0.006\n",
      "Model:                            OLS   Adj. R-squared:                  0.004\n",
      "Method:                 Least Squares   F-statistic:                     2.775\n",
      "Date:                Sat, 11 Jun 2022   Prob (F-statistic):             0.0965\n",
      "Time:                        22:08:06   Log-Likelihood:                -1851.3\n",
      "No. Observations:                 448   AIC:                             3707.\n",
      "Df Residuals:                     446   BIC:                             3715.\n",
      "Df Model:                           1                                         \n",
      "Covariance Type:            nonrobust                                         \n",
      "==============================================================================\n",
      "                 coef    std err          t      P>|t|      [0.025      0.975]\n",
      "------------------------------------------------------------------------------\n",
      "Intercept     16.5993      0.747     22.209      0.000      15.130      18.068\n",
      "dx_j          54.5723     32.761      1.666      0.096      -9.814     118.958\n",
      "==============================================================================\n",
      "Omnibus:                      174.690   Durbin-Watson:                   0.686\n",
      "Prob(Omnibus):                  0.000   Jarque-Bera (JB):              738.386\n",
      "Skew:                           1.706   Prob(JB):                    4.59e-161\n",
      "Kurtosis:                       8.283   Cond. No.                         45.9\n",
      "==============================================================================\n",
      "\n",
      "Notes:\n",
      "[1] Standard Errors assume that the covariance matrix of the errors is correctly specified.\n"
     ]
    }
   ],
   "source": [
    "res_j = mod_j.fit()\n",
    "print(res_j.summary())"
   ]
  },
  {
   "cell_type": "code",
   "execution_count": 236,
   "id": "59a8d782-b860-43b4-8152-6cc1041b75c2",
   "metadata": {},
   "outputs": [
    {
     "name": "stdout",
     "output_type": "stream",
     "text": [
      "                            OLS Regression Results                            \n",
      "==============================================================================\n",
      "Dep. Variable:                      n   R-squared:                       0.003\n",
      "Model:                            OLS   Adj. R-squared:                  0.002\n",
      "Method:                 Least Squares   F-statistic:                     2.711\n",
      "Date:                Sat, 11 Jun 2022   Prob (F-statistic):              0.100\n",
      "Time:                        22:44:11   Log-Likelihood:                -3713.3\n",
      "No. Observations:                 896   AIC:                             7431.\n",
      "Df Residuals:                     894   BIC:                             7440.\n",
      "Df Model:                           1                                         \n",
      "Covariance Type:            nonrobust                                         \n",
      "==============================================================================\n",
      "                 coef    std err          t      P>|t|      [0.025      0.975]\n",
      "------------------------------------------------------------------------------\n",
      "Intercept     16.8059      0.530     31.727      0.000      15.766      17.846\n",
      "dx            28.0207     17.019      1.646      0.100      -5.381      61.422\n",
      "==============================================================================\n",
      "Omnibus:                      280.076   Durbin-Watson:                   0.771\n",
      "Prob(Omnibus):                  0.000   Jarque-Bera (JB):              971.238\n",
      "Skew:                           1.486   Prob(JB):                    1.25e-211\n",
      "Kurtosis:                       7.145   Cond. No.                         33.3\n",
      "==============================================================================\n",
      "\n",
      "Notes:\n",
      "[1] Standard Errors assume that the covariance matrix of the errors is correctly specified.\n"
     ]
    }
   ],
   "source": [
    "n_x = pd.DataFrame({'n': pd.concat([check_df['n_i'],check_df['n_j']]),\n",
    "                    'dx': pd.concat([check_df['dx_i'],check_df['dx_j']])})\n",
    "mod = smf.ols(formula='n ~ dx', data=n_x)\n",
    "res = mod.fit()\n",
    "print(res.summary())"
   ]
  },
  {
   "cell_type": "code",
   "execution_count": 14,
   "id": "351f18db-b178-4e69-a3f9-de30f959393d",
   "metadata": {},
   "outputs": [
    {
     "data": {
      "text/plain": [
       "0.10001984489244198"
      ]
     },
     "execution_count": 14,
     "metadata": {},
     "output_type": "execute_result"
    }
   ],
   "source": [
    "res.pvalues['dx']"
   ]
  },
  {
   "cell_type": "code",
   "execution_count": 15,
   "id": "676d01a3-1219-4732-aef4-a53c2658569c",
   "metadata": {},
   "outputs": [
    {
     "data": {
      "text/plain": [
       "<matplotlib.collections.PathCollection at 0x2ac2a4b0b48>"
      ]
     },
     "execution_count": 15,
     "metadata": {},
     "output_type": "execute_result"
    },
    {
     "data": {
      "image/png": "[encoded data removed]",
      "text/plain": [
       "<Figure size 720x432 with 1 Axes>"
      ]
     },
     "metadata": {
      "needs_background": "light"
     },
     "output_type": "display_data"
    }
   ],
   "source": [
    "plt.figure(figsize=(10,6))\n",
    "plt.scatter(n_x['n'], n_x['dx'])"
   ]
  },
  {
   "cell_type": "code",
   "execution_count": 42,
   "id": "14c4dab0-13b2-4dc7-9eae-48cf3f80cdb1",
   "metadata": {},
   "outputs": [
    {
     "data": {
      "text/plain": [
       "<matplotlib.collections.PathCollection at 0x175a0e1c548>"
      ]
     },
     "execution_count": 42,
     "metadata": {},
     "output_type": "execute_result"
    },
    {
     "data": {
      "image/png": "[encoded data removed]",
      "text/plain": [
       "<Figure size 720x432 with 1 Axes>"
      ]
     },
     "metadata": {
      "needs_background": "light"
     },
     "output_type": "display_data"
    }
   ],
   "source": [
    "plt.figure(figsize=(10,6))\n",
    "plt.scatter(n_x['n'], np.log(n_x['dx']))"
   ]
  },
  {
   "cell_type": "code",
   "execution_count": 44,
   "id": "59fd94f4-84c7-41df-b091-fce9f3d2242e",
   "metadata": {},
   "outputs": [
    {
     "data": {
      "text/plain": [
       "<matplotlib.collections.PathCollection at 0x175a0f19d48>"
      ]
     },
     "execution_count": 44,
     "metadata": {},
     "output_type": "execute_result"
    },
    {
     "data": {
      "image/png": "[encoded data removed]",
      "text/plain": [
       "<Figure size 720x432 with 1 Axes>"
      ]
     },
     "metadata": {
      "needs_background": "light"
     },
     "output_type": "display_data"
    }
   ],
   "source": [
    "plt.figure(figsize=(10,6))\n",
    "plt.scatter(np.log(n_x['n']), n_x['dx'])"
   ]
  },
  {
   "cell_type": "code",
   "execution_count": 45,
   "id": "726451c0-1d2f-434a-aff8-4ce1ddcdf8a1",
   "metadata": {},
   "outputs": [
    {
     "data": {
      "text/plain": [
       "<matplotlib.collections.PathCollection at 0x175a103d2c8>"
      ]
     },
     "execution_count": 45,
     "metadata": {},
     "output_type": "execute_result"
    },
    {
     "data": {
      "image/png": "[encoded data removed]",
      "text/plain": [
       "<Figure size 720x432 with 1 Axes>"
      ]
     },
     "metadata": {
      "needs_background": "light"
     },
     "output_type": "display_data"
    }
   ],
   "source": [
    "plt.figure(figsize=(10,6))\n",
    "plt.scatter(np.log(n_x['n']), np.log(n_x['dx']))"
   ]
  },
  {
   "cell_type": "markdown",
   "id": "f41f2150-41ab-47b7-9359-e92f34daf626",
   "metadata": {},
   "source": [
    "#### Fixed Effects Check"
   ]
  },
  {
   "cell_type": "code",
   "execution_count": 237,
   "id": "79f211b5-58d3-4abf-82e5-4c96fcff33a8",
   "metadata": {},
   "outputs": [
    {
     "data": {
      "text/html": [
       "<div>\n",
       "<style scoped>\n",
       "    .dataframe tbody tr th:only-of-type {\n",
       "        vertical-align: middle;\n",
       "    }\n",
       "\n",
       "    .dataframe tbody tr th {\n",
       "        vertical-align: top;\n",
       "    }\n",
       "\n",
       "    .dataframe thead th {\n",
       "        text-align: right;\n",
       "    }\n",
       "</style>\n",
       "<table border=\"1\" class=\"dataframe\">\n",
       "  <thead>\n",
       "    <tr style=\"text-align: right;\">\n",
       "      <th></th>\n",
       "      <th>n</th>\n",
       "      <th>dx</th>\n",
       "      <th>comp</th>\n",
       "    </tr>\n",
       "    <tr>\n",
       "      <th>t</th>\n",
       "      <th></th>\n",
       "      <th></th>\n",
       "      <th></th>\n",
       "    </tr>\n",
       "  </thead>\n",
       "  <tbody>\n",
       "    <tr>\n",
       "      <th>2</th>\n",
       "      <td>18.0</td>\n",
       "      <td>0.001462</td>\n",
       "      <td>0</td>\n",
       "    </tr>\n",
       "    <tr>\n",
       "      <th>3</th>\n",
       "      <td>37.0</td>\n",
       "      <td>0.000000</td>\n",
       "      <td>0</td>\n",
       "    </tr>\n",
       "    <tr>\n",
       "      <th>4</th>\n",
       "      <td>58.0</td>\n",
       "      <td>0.000000</td>\n",
       "      <td>0</td>\n",
       "    </tr>\n",
       "    <tr>\n",
       "      <th>5</th>\n",
       "      <td>39.0</td>\n",
       "      <td>0.001127</td>\n",
       "      <td>0</td>\n",
       "    </tr>\n",
       "    <tr>\n",
       "      <th>6</th>\n",
       "      <td>42.0</td>\n",
       "      <td>0.000000</td>\n",
       "      <td>0</td>\n",
       "    </tr>\n",
       "    <tr>\n",
       "      <th>...</th>\n",
       "      <td>...</td>\n",
       "      <td>...</td>\n",
       "      <td>...</td>\n",
       "    </tr>\n",
       "    <tr>\n",
       "      <th>9</th>\n",
       "      <td>0.0</td>\n",
       "      <td>0.000000</td>\n",
       "      <td>66</td>\n",
       "    </tr>\n",
       "    <tr>\n",
       "      <th>11</th>\n",
       "      <td>0.0</td>\n",
       "      <td>0.000000</td>\n",
       "      <td>66</td>\n",
       "    </tr>\n",
       "    <tr>\n",
       "      <th>12</th>\n",
       "      <td>4.0</td>\n",
       "      <td>0.063907</td>\n",
       "      <td>66</td>\n",
       "    </tr>\n",
       "    <tr>\n",
       "      <th>13</th>\n",
       "      <td>5.0</td>\n",
       "      <td>0.010704</td>\n",
       "      <td>66</td>\n",
       "    </tr>\n",
       "    <tr>\n",
       "      <th>14</th>\n",
       "      <td>6.0</td>\n",
       "      <td>0.005093</td>\n",
       "      <td>66</td>\n",
       "    </tr>\n",
       "  </tbody>\n",
       "</table>\n",
       "<p>896 rows × 3 columns</p>\n",
       "</div>"
      ],
      "text/plain": [
       "       n        dx  comp\n",
       "t                       \n",
       "2   18.0  0.001462     0\n",
       "3   37.0  0.000000     0\n",
       "4   58.0  0.000000     0\n",
       "5   39.0  0.001127     0\n",
       "6   42.0  0.000000     0\n",
       "..   ...       ...   ...\n",
       "9    0.0  0.000000    66\n",
       "11   0.0  0.000000    66\n",
       "12   4.0  0.063907    66\n",
       "13   5.0  0.010704    66\n",
       "14   6.0  0.005093    66\n",
       "\n",
       "[896 rows x 3 columns]"
      ]
     },
     "execution_count": 237,
     "metadata": {},
     "output_type": "execute_result"
    }
   ],
   "source": [
    "n_x['comp'] = pd.concat([check_df['comp'], check_df['comp']])\n",
    "n_x"
   ]
  },
  {
   "cell_type": "code",
   "execution_count": 238,
   "id": "c780fa72-cde9-49fc-93c0-68d8071644b4",
   "metadata": {},
   "outputs": [],
   "source": [
    "from linearmodels.panel import PanelOLS\n",
    "\n",
    "time = n_x.index\n",
    "entity = n_x['comp']\n",
    "# index = pd.MultiIndex.from_product([entity, time])\n",
    "index = [entity.values, time.values]\n",
    "n_x.index = index"
   ]
  },
  {
   "cell_type": "code",
   "execution_count": 239,
   "id": "fc16b188-18e0-44fe-8b3a-5b4e5a736131",
   "metadata": {},
   "outputs": [
    {
     "data": {
      "text/html": [
       "<div>\n",
       "<style scoped>\n",
       "    .dataframe tbody tr th:only-of-type {\n",
       "        vertical-align: middle;\n",
       "    }\n",
       "\n",
       "    .dataframe tbody tr th {\n",
       "        vertical-align: top;\n",
       "    }\n",
       "\n",
       "    .dataframe thead th {\n",
       "        text-align: right;\n",
       "    }\n",
       "</style>\n",
       "<table border=\"1\" class=\"dataframe\">\n",
       "  <thead>\n",
       "    <tr style=\"text-align: right;\">\n",
       "      <th></th>\n",
       "      <th></th>\n",
       "      <th>n</th>\n",
       "      <th>dx</th>\n",
       "      <th>comp</th>\n",
       "    </tr>\n",
       "  </thead>\n",
       "  <tbody>\n",
       "    <tr>\n",
       "      <th rowspan=\"5\" valign=\"top\">0</th>\n",
       "      <th>2</th>\n",
       "      <td>18.0</td>\n",
       "      <td>0.001462</td>\n",
       "      <td>0</td>\n",
       "    </tr>\n",
       "    <tr>\n",
       "      <th>3</th>\n",
       "      <td>37.0</td>\n",
       "      <td>0.000000</td>\n",
       "      <td>0</td>\n",
       "    </tr>\n",
       "    <tr>\n",
       "      <th>4</th>\n",
       "      <td>58.0</td>\n",
       "      <td>0.000000</td>\n",
       "      <td>0</td>\n",
       "    </tr>\n",
       "    <tr>\n",
       "      <th>5</th>\n",
       "      <td>39.0</td>\n",
       "      <td>0.001127</td>\n",
       "      <td>0</td>\n",
       "    </tr>\n",
       "    <tr>\n",
       "      <th>6</th>\n",
       "      <td>42.0</td>\n",
       "      <td>0.000000</td>\n",
       "      <td>0</td>\n",
       "    </tr>\n",
       "    <tr>\n",
       "      <th>...</th>\n",
       "      <th>...</th>\n",
       "      <td>...</td>\n",
       "      <td>...</td>\n",
       "      <td>...</td>\n",
       "    </tr>\n",
       "    <tr>\n",
       "      <th rowspan=\"5\" valign=\"top\">66</th>\n",
       "      <th>9</th>\n",
       "      <td>0.0</td>\n",
       "      <td>0.000000</td>\n",
       "      <td>66</td>\n",
       "    </tr>\n",
       "    <tr>\n",
       "      <th>11</th>\n",
       "      <td>0.0</td>\n",
       "      <td>0.000000</td>\n",
       "      <td>66</td>\n",
       "    </tr>\n",
       "    <tr>\n",
       "      <th>12</th>\n",
       "      <td>4.0</td>\n",
       "      <td>0.063907</td>\n",
       "      <td>66</td>\n",
       "    </tr>\n",
       "    <tr>\n",
       "      <th>13</th>\n",
       "      <td>5.0</td>\n",
       "      <td>0.010704</td>\n",
       "      <td>66</td>\n",
       "    </tr>\n",
       "    <tr>\n",
       "      <th>14</th>\n",
       "      <td>6.0</td>\n",
       "      <td>0.005093</td>\n",
       "      <td>66</td>\n",
       "    </tr>\n",
       "  </tbody>\n",
       "</table>\n",
       "<p>896 rows × 3 columns</p>\n",
       "</div>"
      ],
      "text/plain": [
       "          n        dx  comp\n",
       "0  2   18.0  0.001462     0\n",
       "   3   37.0  0.000000     0\n",
       "   4   58.0  0.000000     0\n",
       "   5   39.0  0.001127     0\n",
       "   6   42.0  0.000000     0\n",
       "...     ...       ...   ...\n",
       "66 9    0.0  0.000000    66\n",
       "   11   0.0  0.000000    66\n",
       "   12   4.0  0.063907    66\n",
       "   13   5.0  0.010704    66\n",
       "   14   6.0  0.005093    66\n",
       "\n",
       "[896 rows x 3 columns]"
      ]
     },
     "execution_count": 239,
     "metadata": {},
     "output_type": "execute_result"
    }
   ],
   "source": [
    "n_x"
   ]
  },
  {
   "cell_type": "code",
   "execution_count": 283,
   "id": "fbe2112f-42f0-4ea4-bb45-60730b9f5ea4",
   "metadata": {},
   "outputs": [
    {
     "name": "stdout",
     "output_type": "stream",
     "text": [
      "                          PanelOLS Estimation Summary                           \n",
      "================================================================================\n",
      "Dep. Variable:                      n   R-squared:                        0.0093\n",
      "Estimator:                   PanelOLS   R-squared (Between):              0.0315\n",
      "No. Observations:                 896   R-squared (Within):               0.0053\n",
      "Date:                Sat, Jun 11 2022   R-squared (Overall):              0.0227\n",
      "Time:                        23:18:15   Log-likelihood                   -3460.2\n",
      "Cov. Estimator:             Clustered                                           \n",
      "                                        F-statistic:                      7.6863\n",
      "Entities:                          67   P-value                           0.0057\n",
      "Avg Obs:                       13.373   Distribution:                   F(1,816)\n",
      "Min Obs:                       6.0000                                           \n",
      "Max Obs:                       26.000   F-statistic (robust):             5.0598\n",
      "                                        P-value                           0.0248\n",
      "Time periods:                      13   Distribution:                   F(1,816)\n",
      "Avg Obs:                       68.923                                           \n",
      "Min Obs:                       4.0000                                           \n",
      "Max Obs:                       132.00                                           \n",
      "                                                                                \n",
      "                             Parameter Estimates                              \n",
      "==============================================================================\n",
      "            Parameter  Std. Err.     T-stat    P-value    Lower CI    Upper CI\n",
      "------------------------------------------------------------------------------\n",
      "dx             40.301     17.916     2.2494     0.0248      5.1333      75.469\n",
      "==============================================================================\n",
      "\n",
      "F-test for Poolability: 7.9440\n",
      "P-value: 0.0000\n",
      "Distribution: F(78,816)\n",
      "\n",
      "Included effects: Entity, Time\n"
     ]
    }
   ],
   "source": [
    "mod = PanelOLS(n_x['n'], n_x['dx'], entity_effects=True, time_effects=True)\n",
    "# mod = PanelOLS(n_x['n'], np.log(n_x['dx']+1), entity_effects=True, time_effects=True)\n",
    "res = mod.fit(cov_type='clustered', cluster_entity=True)\n",
    "print(res)"
   ]
  },
  {
   "cell_type": "code",
   "execution_count": 284,
   "id": "4af3f85c-e8d9-4e5e-a647-230923bb04e8",
   "metadata": {},
   "outputs": [
    {
     "data": {
      "image/png": "[encoded data removed]",
      "text/plain": [
       "<Figure size 432x288 with 1 Axes>"
      ]
     },
     "metadata": {
      "needs_background": "light"
     },
     "output_type": "display_data"
    }
   ],
   "source": [
    "est_effects = res.estimated_effects.values.reshape(-1)\n",
    "plt.hist(est_effects);"
   ]
  },
  {
   "cell_type": "code",
   "execution_count": 285,
   "id": "23fc0d56-1bd5-402c-a56b-86c471ebe4ec",
   "metadata": {},
   "outputs": [
    {
     "name": "stdout",
     "output_type": "stream",
     "text": [
      "inf\n",
      "-inf\n"
     ]
    }
   ],
   "source": [
    "ratio = est_effects / n_x['n']\n",
    "ratio = ratio.reset_index(drop=True)\n",
    "print(ratio.max())\n",
    "print(ratio.min())"
   ]
  },
  {
   "cell_type": "code",
   "execution_count": 286,
   "id": "f690d7c4-7363-4ad6-9977-1c34f221216f",
   "metadata": {},
   "outputs": [
    {
     "name": "stdout",
     "output_type": "stream",
     "text": [
      "88\n",
      "88\n"
     ]
    }
   ],
   "source": [
    "ill_idx = ratio[np.abs(ratio) == np.inf].index\n",
    "ok_idx = np.setdiff1d(ratio.index, ill_idx)\n",
    "ill_data = pd.DataFrame({'effects':est_effects[ill_idx], 'sub': n_x['n'].reset_index(drop=True)[ill_idx], 'ratio':ratio[ill_idx]}).reset_index(drop=True)\n",
    "print((ill_data['sub'] == 0).sum())\n",
    "print(len(ill_idx))"
   ]
  },
  {
   "cell_type": "code",
   "execution_count": 287,
   "id": "2a106dc3-116e-46c6-aaf9-5706bff6f061",
   "metadata": {},
   "outputs": [
    {
     "data": {
      "image/png": "[encoded data removed]",
      "text/plain": [
       "<Figure size 720x432 with 1 Axes>"
      ]
     },
     "metadata": {
      "needs_background": "light"
     },
     "output_type": "display_data"
    }
   ],
   "source": [
    "plt.figure(figsize=(10,6))\n",
    "plt.hist(ratio[ok_idx].values,bins=40)\n",
    "plt.xticks(ticks=np.arange(-2,35,2));"
   ]
  },
  {
   "cell_type": "code",
   "execution_count": 288,
   "id": "cdfc07bc-7ac0-43a4-bbd3-0078afc1bc4b",
   "metadata": {},
   "outputs": [
    {
     "name": "stdout",
     "output_type": "stream",
     "text": [
      "                                 OLS Regression Results                                \n",
      "=======================================================================================\n",
      "Dep. Variable:                      n   R-squared (uncentered):                   0.012\n",
      "Model:                            OLS   Adj. R-squared (uncentered):              0.011\n",
      "Method:                 Least Squares   F-statistic:                              10.64\n",
      "Date:                Sat, 11 Jun 2022   Prob (F-statistic):                     0.00115\n",
      "Time:                        23:18:41   Log-Likelihood:                         -3460.2\n",
      "No. Observations:                 896   AIC:                                      6922.\n",
      "Df Residuals:                     895   BIC:                                      6927.\n",
      "Df Model:                           1                                                  \n",
      "Covariance Type:            nonrobust                                                  \n",
      "==============================================================================\n",
      "                 coef    std err          t      P>|t|      [0.025      0.975]\n",
      "------------------------------------------------------------------------------\n",
      "dx            40.3011     12.357      3.261      0.001      16.049      64.553\n",
      "==============================================================================\n",
      "Omnibus:                      180.957   Durbin-Watson:                   1.356\n",
      "Prob(Omnibus):                  0.000   Jarque-Bera (JB):              779.150\n",
      "Skew:                           0.876   Prob(JB):                    6.45e-170\n",
      "Kurtosis:                       7.219   Cond. No.                         1.00\n",
      "==============================================================================\n",
      "\n",
      "Notes:\n",
      "[1] R² is computed without centering (uncentered) since the model does not contain a constant.\n",
      "[2] Standard Errors assume that the covariance matrix of the errors is correctly specified.\n"
     ]
    }
   ],
   "source": [
    "adj_n = n_x['n'].values - est_effects\n",
    "dx =  n_x['dx'].values\n",
    "# dx =  np.log(n_x['dx'].values+1)\n",
    "\n",
    "adj_n_x = pd.DataFrame({'n': adj_n,\n",
    "                    'dx': dx})\n",
    "mod = smf.ols(formula='n ~ dx-1', data=adj_n_x)\n",
    "res = mod.fit()\n",
    "\n",
    "print(res.summary())"
   ]
  },
  {
   "cell_type": "code",
   "execution_count": 289,
   "id": "1810e7c2-d76b-487d-b3c5-b303cf34020e",
   "metadata": {},
   "outputs": [
    {
     "data": {
      "image/png": "[encoded data removed]",
      "text/plain": [
       "<Figure size 720x432 with 1 Axes>"
      ]
     },
     "metadata": {
      "needs_background": "light"
     },
     "output_type": "display_data"
    }
   ],
   "source": [
    "import seaborn as sns\n",
    "plt.figure(figsize=(10,6))\n",
    "sns.regplot(x=dx, y=adj_n);"
   ]
  },
  {
   "cell_type": "markdown",
   "id": "38e001dc-dbd2-4f10-b535-ad17da41875b",
   "metadata": {},
   "source": [
    "### Results Check"
   ]
  },
  {
   "cell_type": "code",
   "execution_count": 10,
   "id": "1c86abf5-6ce2-4f96-aa96-d13207233edf",
   "metadata": {},
   "outputs": [
    {
     "name": "stdout",
     "output_type": "stream",
     "text": [
      "<class 'pandas.core.frame.DataFrame'>\n",
      "Int64Index: 431 entries, 1 to 14\n",
      "Data columns (total 6 columns):\n",
      " #   Column  Non-Null Count  Dtype  \n",
      "---  ------  --------------  -----  \n",
      " 0   n_i     431 non-null    float64\n",
      " 1   x_i     431 non-null    float64\n",
      " 2   n_j     431 non-null    float64\n",
      " 3   x_j     431 non-null    float64\n",
      " 4   y_i     431 non-null    float64\n",
      " 5   dZ      431 non-null    float64\n",
      "dtypes: float64(6)\n",
      "memory usage: 23.6 KB\n"
     ]
    }
   ],
   "source": [
    "res_df.info()"
   ]
  },
  {
   "cell_type": "code",
   "execution_count": 11,
   "id": "05c6e9f9-16a4-4809-8c6f-172a1cf33e52",
   "metadata": {},
   "outputs": [
    {
     "name": "stdout",
     "output_type": "stream",
     "text": [
      "<class 'pandas.core.frame.DataFrame'>\n",
      "RangeIndex: 53 entries, 0 to 52\n",
      "Data columns (total 4 columns):\n",
      " #   Column  Non-Null Count  Dtype \n",
      "---  ------  --------------  ----- \n",
      " 0   T       53 non-null     object\n",
      " 1   theta   53 non-null     object\n",
      " 2   perc    53 non-null     object\n",
      " 3   Slug    53 non-null     object\n",
      "dtypes: object(4)\n",
      "memory usage: 1.8+ KB\n"
     ]
    }
   ],
   "source": [
    "comp_df.info()"
   ]
  },
  {
   "cell_type": "code",
   "execution_count": 13,
   "id": "0e6c8a64-9acb-4c78-b682-9245566f3af7",
   "metadata": {},
   "outputs": [
    {
     "data": {
      "text/plain": [
       "EvaluationLabel         EvaluationAlgorithmIsMax\n",
       "AUC                     True                        27\n",
       "CategorizationAccuracy  True                         5\n",
       "GoogleGlobalAP          True                         2\n",
       "MAP@{K}                 True                         7\n",
       "MCAUC                   True                         5\n",
       "MacroFScore             True                         2\n",
       "MeanFScore              True                         2\n",
       "MeanFScoreBeta          True                         3\n",
       "Name: Slug, dtype: int64"
      ]
     },
     "execution_count": 13,
     "metadata": {},
     "output_type": "execute_result"
    }
   ],
   "source": [
    "comps_details = comps[comps['Slug'].isin(comp_df['Slug'])]\n",
    "comps_details.groupby(['EvaluationLabel','EvaluationAlgorithmIsMax'])['Slug'].count()"
   ]
  },
  {
   "cell_type": "markdown",
   "id": "ada35a58-5252-40cd-b5b8-b87ff66ae7f9",
   "metadata": {
    "tags": []
   },
   "source": [
    "## Suspicious Data"
   ]
  },
  {
   "cell_type": "markdown",
   "id": "f8167c0d-a048-4f16-a389-7fcffddf9790",
   "metadata": {
    "tags": []
   },
   "source": [
    "### Big y_i"
   ]
  },
  {
   "cell_type": "code",
   "execution_count": 14,
   "id": "39bc6c6d-a385-446f-9ec0-f8a77dadd1e4",
   "metadata": {},
   "outputs": [
    {
     "name": "stdout",
     "output_type": "stream",
     "text": [
      "liverpool-ion-switching\n",
      "     n_i       x_i   n_j       x_j       y_i        dZ\n",
      "t                                                     \n",
      "1    1.0  0.402145  26.0  0.933098 -0.530953 -0.538351\n",
      "2    0.0  0.402145  35.0  0.937514 -0.535369 -0.539413\n",
      "3   12.0  0.935256  30.0  0.937894 -0.002638 -0.000665\n",
      "4    7.0  0.938753  13.0  0.939932 -0.001180 -0.001051\n",
      "5    6.0  0.938753   8.0  0.939932 -0.001180 -0.001051\n",
      "6   19.0  0.938813   0.0  0.939932 -0.001119 -0.000852\n",
      "7   14.0  0.943458   0.0  0.939932  0.003526  0.002761\n",
      "8    8.0  0.943725   9.0  0.943756 -0.000031 -0.000076\n",
      "9    3.0  0.944015  25.0  0.944688 -0.000674 -0.001578\n",
      "10  18.0  0.985096  26.0  0.945267  0.039829 -0.000348\n",
      "11  15.0  0.985119  13.0  0.958240  0.026879 -0.000673\n",
      "recursion-cellular-image-classification\n",
      "    n_i       x_i   n_j       x_j       y_i        dZ\n",
      "t                                                    \n",
      "1  31.0  0.645588   5.0  0.978898 -0.333310 -0.506658\n",
      "2  35.0  0.982659   4.0  0.993593 -0.010934 -0.071767\n",
      "3  35.0  0.990738   1.0  0.995404 -0.004666 -0.029564\n",
      "4  27.0  0.993105   3.0  0.996030 -0.002925 -0.018957\n",
      "5  20.0  0.994289   0.0  0.996030 -0.001741 -0.014895\n",
      "6  26.0  0.994986   7.0  0.996796 -0.001811 -0.014444\n",
      "7  25.0  0.995891   6.0  0.996796 -0.000905 -0.011284\n",
      "8  33.0  0.997771  10.0  0.996796  0.000975 -0.004062\n",
      "9  19.0  0.997911   7.0  0.996796  0.001114 -0.003611\n"
     ]
    }
   ],
   "source": [
    "threshold = 0.2\n",
    "for i in range(len(res_list)):\n",
    "    df = res_list[i]\n",
    "    sus_rows = df[np.abs(df['y_i']) > threshold]\n",
    "    if sus_rows.shape[0] != 0:\n",
    "        print(comp_df.iloc[i]['Slug'])\n",
    "        print(df)"
   ]
  },
  {
   "cell_type": "markdown",
   "id": "aaf2718a-4951-4cd8-a2c9-f2336b2e8347",
   "metadata": {
    "jp-MarkdownHeadingCollapsed": true,
    "tags": []
   },
   "source": [
    "### Big Divergence between y_i and dZ"
   ]
  },
  {
   "cell_type": "code",
   "execution_count": 15,
   "id": "8536011f-d3f3-43b7-a7e3-b126b7563226",
   "metadata": {},
   "outputs": [
    {
     "name": "stdout",
     "output_type": "stream",
     "text": [
      "recursion-cellular-image-classification\n",
      "    n_i       x_i   n_j       x_j       y_i        dZ\n",
      "t                                                    \n",
      "1  31.0  0.645588   5.0  0.978898 -0.333310 -0.506658\n",
      "2  35.0  0.982659   4.0  0.993593 -0.010934 -0.071767\n",
      "3  35.0  0.990738   1.0  0.995404 -0.004666 -0.029564\n",
      "4  27.0  0.993105   3.0  0.996030 -0.002925 -0.018957\n",
      "5  20.0  0.994289   0.0  0.996030 -0.001741 -0.014895\n",
      "6  26.0  0.994986   7.0  0.996796 -0.001811 -0.014444\n",
      "7  25.0  0.995891   6.0  0.996796 -0.000905 -0.011284\n",
      "8  33.0  0.997771  10.0  0.996796  0.000975 -0.004062\n",
      "9  19.0  0.997911   7.0  0.996796  0.001114 -0.003611\n",
      "inria-bci-challenge\n",
      "    n_i       x_i   n_j       x_j       y_i        dZ\n",
      "t                                                    \n",
      "1   2.0  0.722253  14.0  0.611427  0.110826  0.007788\n",
      "3   0.0  0.722253   3.0  0.776981 -0.054728  0.007788\n",
      "4   3.0  0.770948   5.0  0.776981 -0.006033  0.031129\n",
      "5   1.0  0.803711   0.0  0.776981  0.026730  0.051676\n",
      "6   0.0  0.803711   7.0  0.776981  0.026730  0.020546\n",
      "8   6.0  0.817959   0.0  0.776981  0.040978  0.026768\n",
      "9   2.0  0.837162   0.0  0.776981  0.060181  0.026768\n",
      "11  4.0  0.846771   0.0  0.776981  0.069790  0.030982\n",
      "12  5.0  0.846771   4.0  0.840888  0.005883  0.015859\n",
      "13  3.0  0.855054   5.0  0.851592  0.003462  0.018140\n",
      "14  6.0  0.872242   6.0  0.856685  0.015557  0.018140\n"
     ]
    }
   ],
   "source": [
    "threshold = 0.1\n",
    "for i in range(len(res_list)):\n",
    "    df = res_list[i]\n",
    "    sus_rows = df[(df['y_i'] - df['dZ']) > threshold]\n",
    "    if sus_rows.shape[0] != 0:\n",
    "        print(comp_df.iloc[i]['Slug'])\n",
    "        print(df)"
   ]
  },
  {
   "cell_type": "markdown",
   "id": "c51a0234-cc35-4588-930a-ee5bd9a41038",
   "metadata": {
    "jp-MarkdownHeadingCollapsed": true,
    "tags": []
   },
   "source": [
    "### Submission Number is 0"
   ]
  },
  {
   "cell_type": "code",
   "execution_count": 227,
   "id": "449a3b5e-862e-4d1c-bb8b-61987fd54c88",
   "metadata": {},
   "outputs": [],
   "source": [
    "# for i in range(len(res_list)):\n",
    "#     df = res_list[i]\n",
    "#     sus_rows = df[(df[['n_i', 'n_j']] == 0).any(axis=1)]\n",
    "#     if sus_rows.shape[0] != 0:\n",
    "#         print(comp_df.iloc[i]['Slug'])\n",
    "#         print(df)"
   ]
  },
  {
   "cell_type": "code",
   "execution_count": 16,
   "id": "6f4e70b5-e4cb-485c-ac56-55a38f218387",
   "metadata": {},
   "outputs": [
    {
     "data": {
      "image/png": "[encoded data removed]",
      "text/plain": [
       "<Figure size 432x288 with 1 Axes>"
      ]
     },
     "metadata": {
      "needs_background": "light"
     },
     "output_type": "display_data"
    }
   ],
   "source": [
    "plt.hist(res_df['y_i'], bins=20);"
   ]
  },
  {
   "cell_type": "markdown",
   "id": "aa4924d6-2401-414c-ba9f-dcec56d7a045",
   "metadata": {},
   "source": [
    "## Dataframes Saved"
   ]
  },
  {
   "cell_type": "code",
   "execution_count": 17,
   "id": "3409f600-0fcc-4cbe-b877-16cfad75828d",
   "metadata": {},
   "outputs": [
    {
     "data": {
      "text/html": [
       "<div>\n",
       "<style scoped>\n",
       "    .dataframe tbody tr th:only-of-type {\n",
       "        vertical-align: middle;\n",
       "    }\n",
       "\n",
       "    .dataframe tbody tr th {\n",
       "        vertical-align: top;\n",
       "    }\n",
       "\n",
       "    .dataframe thead th {\n",
       "        text-align: right;\n",
       "    }\n",
       "</style>\n",
       "<table border=\"1\" class=\"dataframe\">\n",
       "  <thead>\n",
       "    <tr style=\"text-align: right;\">\n",
       "      <th></th>\n",
       "      <th>n_i</th>\n",
       "      <th>x_i</th>\n",
       "      <th>n_j</th>\n",
       "      <th>x_j</th>\n",
       "      <th>y_i</th>\n",
       "      <th>dZ</th>\n",
       "    </tr>\n",
       "    <tr>\n",
       "      <th>t</th>\n",
       "      <th></th>\n",
       "      <th></th>\n",
       "      <th></th>\n",
       "      <th></th>\n",
       "      <th></th>\n",
       "      <th></th>\n",
       "    </tr>\n",
       "  </thead>\n",
       "  <tbody>\n",
       "    <tr>\n",
       "      <th>1</th>\n",
       "      <td>21.0</td>\n",
       "      <td>0.796027</td>\n",
       "      <td>12.0</td>\n",
       "      <td>0.792259</td>\n",
       "      <td>0.003768</td>\n",
       "      <td>0.006153</td>\n",
       "    </tr>\n",
       "    <tr>\n",
       "      <th>2</th>\n",
       "      <td>18.0</td>\n",
       "      <td>0.797489</td>\n",
       "      <td>17.0</td>\n",
       "      <td>0.792259</td>\n",
       "      <td>0.005230</td>\n",
       "      <td>0.008211</td>\n",
       "    </tr>\n",
       "    <tr>\n",
       "      <th>3</th>\n",
       "      <td>37.0</td>\n",
       "      <td>0.797489</td>\n",
       "      <td>18.0</td>\n",
       "      <td>0.792721</td>\n",
       "      <td>0.004768</td>\n",
       "      <td>0.007838</td>\n",
       "    </tr>\n",
       "    <tr>\n",
       "      <th>4</th>\n",
       "      <td>58.0</td>\n",
       "      <td>0.797489</td>\n",
       "      <td>15.0</td>\n",
       "      <td>0.795739</td>\n",
       "      <td>0.001750</td>\n",
       "      <td>0.003104</td>\n",
       "    </tr>\n",
       "    <tr>\n",
       "      <th>5</th>\n",
       "      <td>39.0</td>\n",
       "      <td>0.798616</td>\n",
       "      <td>29.0</td>\n",
       "      <td>0.795739</td>\n",
       "      <td>0.002877</td>\n",
       "      <td>0.001187</td>\n",
       "    </tr>\n",
       "    <tr>\n",
       "      <th>...</th>\n",
       "      <td>...</td>\n",
       "      <td>...</td>\n",
       "      <td>...</td>\n",
       "      <td>...</td>\n",
       "      <td>...</td>\n",
       "      <td>...</td>\n",
       "    </tr>\n",
       "    <tr>\n",
       "      <th>9</th>\n",
       "      <td>2.0</td>\n",
       "      <td>0.837162</td>\n",
       "      <td>0.0</td>\n",
       "      <td>0.776981</td>\n",
       "      <td>0.060181</td>\n",
       "      <td>0.026768</td>\n",
       "    </tr>\n",
       "    <tr>\n",
       "      <th>11</th>\n",
       "      <td>4.0</td>\n",
       "      <td>0.846771</td>\n",
       "      <td>0.0</td>\n",
       "      <td>0.776981</td>\n",
       "      <td>0.069790</td>\n",
       "      <td>0.030982</td>\n",
       "    </tr>\n",
       "    <tr>\n",
       "      <th>12</th>\n",
       "      <td>5.0</td>\n",
       "      <td>0.846771</td>\n",
       "      <td>4.0</td>\n",
       "      <td>0.840888</td>\n",
       "      <td>0.005883</td>\n",
       "      <td>0.015859</td>\n",
       "    </tr>\n",
       "    <tr>\n",
       "      <th>13</th>\n",
       "      <td>3.0</td>\n",
       "      <td>0.855054</td>\n",
       "      <td>5.0</td>\n",
       "      <td>0.851592</td>\n",
       "      <td>0.003462</td>\n",
       "      <td>0.018140</td>\n",
       "    </tr>\n",
       "    <tr>\n",
       "      <th>14</th>\n",
       "      <td>6.0</td>\n",
       "      <td>0.872242</td>\n",
       "      <td>6.0</td>\n",
       "      <td>0.856685</td>\n",
       "      <td>0.015557</td>\n",
       "      <td>0.018140</td>\n",
       "    </tr>\n",
       "  </tbody>\n",
       "</table>\n",
       "<p>431 rows × 6 columns</p>\n",
       "</div>"
      ],
      "text/plain": [
       "     n_i       x_i   n_j       x_j       y_i        dZ\n",
       "t                                                     \n",
       "1   21.0  0.796027  12.0  0.792259  0.003768  0.006153\n",
       "2   18.0  0.797489  17.0  0.792259  0.005230  0.008211\n",
       "3   37.0  0.797489  18.0  0.792721  0.004768  0.007838\n",
       "4   58.0  0.797489  15.0  0.795739  0.001750  0.003104\n",
       "5   39.0  0.798616  29.0  0.795739  0.002877  0.001187\n",
       "..   ...       ...   ...       ...       ...       ...\n",
       "9    2.0  0.837162   0.0  0.776981  0.060181  0.026768\n",
       "11   4.0  0.846771   0.0  0.776981  0.069790  0.030982\n",
       "12   5.0  0.846771   4.0  0.840888  0.005883  0.015859\n",
       "13   3.0  0.855054   5.0  0.851592  0.003462  0.018140\n",
       "14   6.0  0.872242   6.0  0.856685  0.015557  0.018140\n",
       "\n",
       "[431 rows x 6 columns]"
      ]
     },
     "execution_count": 17,
     "metadata": {},
     "output_type": "execute_result"
    }
   ],
   "source": [
    "res_df"
   ]
  },
  {
   "cell_type": "code",
   "execution_count": 18,
   "id": "63386f34-e548-4205-b16e-abf5c3efbee5",
   "metadata": {},
   "outputs": [
    {
     "data": {
      "text/html": [
       "<div>\n",
       "<style scoped>\n",
       "    .dataframe tbody tr th:only-of-type {\n",
       "        vertical-align: middle;\n",
       "    }\n",
       "\n",
       "    .dataframe tbody tr th {\n",
       "        vertical-align: top;\n",
       "    }\n",
       "\n",
       "    .dataframe thead th {\n",
       "        text-align: right;\n",
       "    }\n",
       "</style>\n",
       "<table border=\"1\" class=\"dataframe\">\n",
       "  <thead>\n",
       "    <tr style=\"text-align: right;\">\n",
       "      <th></th>\n",
       "      <th>T</th>\n",
       "      <th>theta</th>\n",
       "      <th>perc</th>\n",
       "      <th>Slug</th>\n",
       "    </tr>\n",
       "  </thead>\n",
       "  <tbody>\n",
       "    <tr>\n",
       "      <th>0</th>\n",
       "      <td>14</td>\n",
       "      <td>70.0</td>\n",
       "      <td>0.2</td>\n",
       "      <td>home-credit-default-risk</td>\n",
       "    </tr>\n",
       "    <tr>\n",
       "      <th>1</th>\n",
       "      <td>11</td>\n",
       "      <td>20.0</td>\n",
       "      <td>0.2</td>\n",
       "      <td>ieee-fraud-detection</td>\n",
       "    </tr>\n",
       "    <tr>\n",
       "      <th>2</th>\n",
       "      <td>7</td>\n",
       "      <td>65.0</td>\n",
       "      <td>0.25</td>\n",
       "      <td>santander-customer-transaction-prediction</td>\n",
       "    </tr>\n",
       "    <tr>\n",
       "      <th>3</th>\n",
       "      <td>7</td>\n",
       "      <td>30.0</td>\n",
       "      <td>0.3</td>\n",
       "      <td>siim-isic-melanoma-classification</td>\n",
       "    </tr>\n",
       "    <tr>\n",
       "      <th>4</th>\n",
       "      <td>9</td>\n",
       "      <td>60.0</td>\n",
       "      <td>0.5</td>\n",
       "      <td>santander-customer-satisfaction</td>\n",
       "    </tr>\n",
       "    <tr>\n",
       "      <th>5</th>\n",
       "      <td>6</td>\n",
       "      <td>35.0</td>\n",
       "      <td>0.1</td>\n",
       "      <td>jigsaw-toxic-comment-classification-challenge</td>\n",
       "    </tr>\n",
       "    <tr>\n",
       "      <th>6</th>\n",
       "      <td>7</td>\n",
       "      <td>25.0</td>\n",
       "      <td>0.18</td>\n",
       "      <td>talkingdata-adtracking-fraud-detection</td>\n",
       "    </tr>\n",
       "    <tr>\n",
       "      <th>7</th>\n",
       "      <td>6</td>\n",
       "      <td>100.0</td>\n",
       "      <td>0.2</td>\n",
       "      <td>riiid-test-answer-prediction</td>\n",
       "    </tr>\n",
       "    <tr>\n",
       "      <th>8</th>\n",
       "      <td>4</td>\n",
       "      <td>37.0</td>\n",
       "      <td>0.29</td>\n",
       "      <td>human-protein-atlas-image-classification</td>\n",
       "    </tr>\n",
       "    <tr>\n",
       "      <th>9</th>\n",
       "      <td>11</td>\n",
       "      <td>25.0</td>\n",
       "      <td>0.3</td>\n",
       "      <td>liverpool-ion-switching</td>\n",
       "    </tr>\n",
       "  </tbody>\n",
       "</table>\n",
       "</div>"
      ],
      "text/plain": [
       "    T  theta  perc                                           Slug\n",
       "0  14   70.0   0.2                       home-credit-default-risk\n",
       "1  11   20.0   0.2                           ieee-fraud-detection\n",
       "2   7   65.0  0.25      santander-customer-transaction-prediction\n",
       "3   7   30.0   0.3              siim-isic-melanoma-classification\n",
       "4   9   60.0   0.5                santander-customer-satisfaction\n",
       "5   6   35.0   0.1  jigsaw-toxic-comment-classification-challenge\n",
       "6   7   25.0  0.18         talkingdata-adtracking-fraud-detection\n",
       "7   6  100.0   0.2                   riiid-test-answer-prediction\n",
       "8   4   37.0  0.29       human-protein-atlas-image-classification\n",
       "9  11   25.0   0.3                        liverpool-ion-switching"
      ]
     },
     "execution_count": 18,
     "metadata": {},
     "output_type": "execute_result"
    }
   ],
   "source": [
    "comp_df.head(10)"
   ]
  },
  {
   "cell_type": "code",
   "execution_count": 246,
   "id": "f53049ba-2886-421c-bf66-7fc273ea3bc1",
   "metadata": {},
   "outputs": [
    {
     "data": {
      "text/plain": [
       "[<matplotlib.lines.Line2D at 0x24bd187d340>]"
      ]
     },
     "execution_count": 246,
     "metadata": {},
     "output_type": "execute_result"
    },
    {
     "data": {
      "image/png": "[encoded data removed]",
      "text/plain": [
       "<Figure size 432x288 with 1 Axes>"
      ]
     },
     "metadata": {
      "needs_background": "light"
     },
     "output_type": "display_data"
    }
   ],
   "source": [
    "x = np.arange(start=-50,stop=50+1)\n",
    "def f(x):\n",
    "    return (x+1)/(x+3)**3\n",
    "y = f(x)\n",
    "plt.plot(x,y)"
   ]
  },
  {
   "cell_type": "code",
   "execution_count": 242,
   "id": "ef2c3a73-7a3b-4fd5-90b5-00979b42a500",
   "metadata": {},
   "outputs": [
    {
     "data": {
      "text/plain": [
       "0.036901881995981795"
      ]
     },
     "execution_count": 242,
     "metadata": {},
     "output_type": "execute_result"
    }
   ],
   "source": [
    "f(-0.1)"
   ]
  },
  {
   "cell_type": "code",
   "execution_count": 247,
   "id": "9275cd20-7605-4fff-8e52-3c3533d6815a",
   "metadata": {},
   "outputs": [
    {
     "data": {
      "text/plain": [
       "-inf"
      ]
     },
     "execution_count": 247,
     "metadata": {},
     "output_type": "execute_result"
    }
   ],
   "source": [
    "min(y)"
   ]
  },
  {
   "cell_type": "code",
   "execution_count": 252,
   "id": "a63aa28b-1320-4e8c-a0d1-3ac92d5c395f",
   "metadata": {},
   "outputs": [
    {
     "data": {
      "text/plain": [
       "array([-3])"
      ]
     },
     "execution_count": 252,
     "metadata": {},
     "output_type": "execute_result"
    }
   ],
   "source": [
    "x[y == -np.inf]"
   ]
  },
  {
   "cell_type": "code",
   "execution_count": 274,
   "id": "8a382b03-5131-487e-ba8c-e062e8f51448",
   "metadata": {},
   "outputs": [
    {
     "data": {
      "text/plain": [
       "-1990000.0000001276"
      ]
     },
     "execution_count": 274,
     "metadata": {},
     "output_type": "execute_result"
    }
   ],
   "source": [
    "f(-2.99)"
   ]
  },
  {
   "cell_type": "code",
   "execution_count": 276,
   "id": "bb5ca859-08f1-4b63-a35b-16ba323f0e54",
   "metadata": {},
   "outputs": [
    {
     "data": {
      "text/plain": [
       "[<matplotlib.lines.Line2D at 0x24b8fc574f0>]"
      ]
     },
     "execution_count": 276,
     "metadata": {},
     "output_type": "execute_result"
    },
    {
     "data": {
      "image/png": "[encoded data removed]",
      "text/plain": [
       "<Figure size 432x288 with 1 Axes>"
      ]
     },
     "metadata": {
      "needs_background": "light"
     },
     "output_type": "display_data"
    }
   ],
   "source": [
    "def rho(z):\n",
    "    return (2*np.cosh(theta)-2)*z**2 - 2*np.sinh(theta)*z + 1\n",
    "\n",
    "theta = 10\n",
    "z = np.arange(-2, 2, 0.01)\n",
    "rho_z = rho(z)\n",
    "plt.plot(z, rho_z)"
   ]
  },
  {
   "cell_type": "code",
   "execution_count": 277,
   "id": "5a4d3252-72e9-4ad4-a729-9eb5478f1caf",
   "metadata": {},
   "outputs": [
    {
     "name": "stdout",
     "output_type": "stream",
     "text": [
      "1.7763568394002505e-15\n",
      "0.9999999999608732\n"
     ]
    }
   ],
   "source": [
    "idx = np.abs(rho_z - 3).argmin()\n",
    "print(z[idx])\n",
    "print(rho_z[idx])"
   ]
  },
  {
   "cell_type": "code",
   "execution_count": null,
   "id": "da316f3d-d68c-45eb-90df-5fa59e80fa35",
   "metadata": {},
   "outputs": [],
   "source": []
  }
 ],
 "metadata": {
  "kernelspec": {
   "display_name": "Python 3 (ipykernel)",
   "language": "python",
   "name": "python3"
  },
  "language_info": {
   "codemirror_mode": {
    "name": "ipython",
    "version": 3
   },
   "file_extension": ".py",
   "mimetype": "text/x-python",
   "name": "python",
   "nbconvert_exporter": "python",
   "pygments_lexer": "ipython3",
   "version": "3.9.12"
  }
 },
 "nbformat": 4,
 "nbformat_minor": 5
}
